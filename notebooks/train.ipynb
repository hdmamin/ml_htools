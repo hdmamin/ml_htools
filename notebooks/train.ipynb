{
 "cells": [
  {
   "cell_type": "code",
   "execution_count": 1,
   "metadata": {
    "ExecuteTime": {
     "end_time": "2020-02-08T00:50:37.510596Z",
     "start_time": "2020-02-08T00:50:37.155960Z"
    }
   },
   "outputs": [],
   "source": [
    "%load_ext autoreload\n",
    "%autoreload 2\n",
    "%matplotlib inline"
   ]
  },
  {
   "cell_type": "code",
   "execution_count": 309,
   "metadata": {
    "ExecuteTime": {
     "end_time": "2020-02-08T05:35:41.652724Z",
     "start_time": "2020-02-08T05:35:41.631735Z"
    }
   },
   "outputs": [],
   "source": [
    "from collections import defaultdict\n",
    "import matplotlib.pyplot as plt\n",
    "import numpy as np\n",
    "from sklearn.metrics import accuracy_score, precision_score, recall_score\n",
    "import torch\n",
    "import torch.nn as nn\n",
    "from torch.utils.data import Dataset, DataLoader\n",
    "import torch.nn.functional as F\n",
    "\n",
    "from htools import hdir\n",
    "from ml_htools.torch_utils import ModelMixin, variable_lr_optimizer, DEVICE"
   ]
  },
  {
   "cell_type": "code",
   "execution_count": 260,
   "metadata": {
    "ExecuteTime": {
     "end_time": "2020-02-08T05:29:34.858508Z",
     "start_time": "2020-02-08T05:29:34.837171Z"
    }
   },
   "outputs": [],
   "source": [
    "class Data(Dataset):\n",
    "    \n",
    "    def __init__(self, n=64, dim=2):\n",
    "        self.x = torch.rand(n, dim).float()\n",
    "        self.y = torch.clamp(\n",
    "            (self.x.mean(1)/2 + torch.randn(n)).round(), 0, 1\n",
    "        ).unsqueeze(-1)\n",
    "        \n",
    "    def __getitem__(self, i):\n",
    "        return self.x[i], self.y[i]\n",
    "    \n",
    "    def __len__(self):\n",
    "        return len(self.x)"
   ]
  },
  {
   "cell_type": "code",
   "execution_count": 489,
   "metadata": {
    "ExecuteTime": {
     "end_time": "2020-02-08T05:57:40.226233Z",
     "start_time": "2020-02-08T05:57:40.195959Z"
    }
   },
   "outputs": [],
   "source": [
    "class Model(nn.Module, ModelMixin):\n",
    "    \n",
    "    def __init__(self, dim, criterion, callbacks=None, metrics=None):\n",
    "        super().__init__()\n",
    "        self.fc = nn.Linear(dim, 1)\n",
    "        self.criterion = criterion\n",
    "        self.callbacks = [MetricPrinterCallback()] + (callbacks or [])\n",
    "        self.metrics = metrics or []\n",
    "        \n",
    "    def forward(self, x):\n",
    "        return self.fc(x)\n",
    "    \n",
    "    def fit(self, epochs, loaders, lrs, optim=None, callbacks=None, metrics=None, \n",
    "            classification=True, thresh=.5, device=DEVICE):\n",
    "        if callbacks: self.callbacks.extend(callbacks)\n",
    "        if metrics: self.metrics.extend(metrics)\n",
    "        stats = defaultdict(list)\n",
    "        \n",
    "        # Set up data loaders, optimizer, and callbacks.\n",
    "        train_dl, val_dl = loaders\n",
    "        optim = optim or variable_lr_optimizer(self, lrs=lrs)\n",
    "        for cb in self.callbacks: cb.on_train_begin()\n",
    "            \n",
    "        # Train.\n",
    "        self.to(device)\n",
    "        for epoch in range(epochs):\n",
    "            self.train()\n",
    "            for i, (xb, yb) in enumerate(train_dl):\n",
    "                xb, yb = xb.to(device), yb.to(device)\n",
    "                optim.zero_grad()\n",
    "                \n",
    "                # Forward pass.\n",
    "                y_pred = self(xb)\n",
    "                loss = self.criterion(y_pred, yb)\n",
    "                \n",
    "                # Backward pass.\n",
    "                loss.backward()\n",
    "                optim.step()\n",
    "                \n",
    "                # For classification problems, round probabilities\n",
    "                # once instead of in every metric.\n",
    "                # Keep sklearn pattern with y_true as first argument.\n",
    "                if classification: y_pred = (y_pred > thresh).float()\n",
    "                for m in self.metrics: \n",
    "                    stats[m.__name__].append(m(yb, y_pred))\n",
    "                \n",
    "            val_stats = self.validate(val_dl, classification, thresh)\n",
    "            for cb in self.callbacks: cb.on_epoch_end(epoch, stats, val_stats)\n",
    "            \n",
    "        for cb in self.callbacks: cb.on_train_end()\n",
    "        return stats\n",
    "            \n",
    "    def validate(self, val_dl, classification, thresh):\n",
    "        val_stats = dict()\n",
    "        self.eval()\n",
    "        with torch.no_grad():\n",
    "            for xb, yb in val_dl:\n",
    "                y_pred = self(xb)\n",
    "                loss = self.criterion(y_pred, yb)\n",
    "                if classification: y_pred = (y_pred > thresh).float()\n",
    "                for m in self.metrics:\n",
    "                    val_stats[m.__name__] = m(y_pred, yb)\n",
    "        return val_stats"
   ]
  },
  {
   "cell_type": "code",
   "execution_count": 490,
   "metadata": {
    "ExecuteTime": {
     "end_time": "2020-02-08T05:57:40.398082Z",
     "start_time": "2020-02-08T05:57:40.377575Z"
    }
   },
   "outputs": [],
   "source": [
    "class TorchCallback:\n",
    "    \n",
    "    def on_train_begin(self):\n",
    "        pass\n",
    "    \n",
    "    def on_train_end(self):\n",
    "        pass\n",
    "    \n",
    "    def on_epoch_begin(self):\n",
    "        pass\n",
    "\n",
    "    def on_epoch_end(self):\n",
    "        pass\n",
    "    \n",
    "    def on_batch_begin(self):\n",
    "        pass\n",
    "    \n",
    "    def on_batch_end(self):\n",
    "        pass"
   ]
  },
  {
   "cell_type": "code",
   "execution_count": 491,
   "metadata": {
    "ExecuteTime": {
     "end_time": "2020-02-08T05:57:40.548775Z",
     "start_time": "2020-02-08T05:57:40.529651Z"
    }
   },
   "outputs": [
    {
     "ename": "SyntaxError",
     "evalue": "invalid syntax (<ipython-input-491-0aa6d34f185e>, line 1)",
     "output_type": "error",
     "traceback": [
      "\u001b[0;36m  File \u001b[0;32m\"<ipython-input-491-0aa6d34f185e>\"\u001b[0;36m, line \u001b[0;32m1\u001b[0m\n\u001b[0;31m    class StopTraining\u001b[0m\n\u001b[0m                      ^\u001b[0m\n\u001b[0;31mSyntaxError\u001b[0m\u001b[0;31m:\u001b[0m invalid syntax\n"
     ]
    }
   ],
   "source": [
    "class StopTraining"
   ]
  },
  {
   "cell_type": "code",
   "execution_count": 492,
   "metadata": {
    "ExecuteTime": {
     "end_time": "2020-02-08T05:57:40.697544Z",
     "start_time": "2020-02-08T05:57:40.677711Z"
    }
   },
   "outputs": [],
   "source": [
    "class EarlyStopper(TorchCallback):\n",
    "    \n",
    "    def __init__(self, stat='loss', patience=3):\n",
    "        self.stat = stat\n",
    "        self.best_stat = float('inf')\n",
    "        self.patience = patience\n",
    "        self.since_improvement = 0\n",
    "        \n",
    "    def on_epoch_end(self, loss, stats):\n",
    "        if loss < self.best_stat:\n",
    "            self.best_stat = loss\n",
    "            self.since_improvement = 0\n",
    "        else:\n",
    "            self.since_improvement += 1\n",
    "            if self.since_improvement > self.patience:\n",
    "                return "
   ]
  },
  {
   "cell_type": "code",
   "execution_count": 493,
   "metadata": {
    "ExecuteTime": {
     "end_time": "2020-02-08T05:57:40.846331Z",
     "start_time": "2020-02-08T05:57:40.826296Z"
    }
   },
   "outputs": [],
   "source": [
    "class MetricPrinterCallback(TorchCallback):\n",
    "    \n",
    "    def __init__(self):\n",
    "        pass\n",
    "    \n",
    "    def on_epoch_end(self, epoch, stats, val_stats):\n",
    "        print(f'\\nEpoch {epoch}')\n",
    "        for k, v in stats.items():\n",
    "            print(k, np.mean(v).round(3), val_stats[k])"
   ]
  },
  {
   "cell_type": "code",
   "execution_count": 502,
   "metadata": {
    "ExecuteTime": {
     "end_time": "2020-02-08T05:58:17.886017Z",
     "start_time": "2020-02-08T05:58:17.867517Z"
    }
   },
   "outputs": [],
   "source": [
    "def percent_positive(y_true, y_pred):\n",
    "    return (y_pred == 1).float().numpy().mean()"
   ]
  },
  {
   "cell_type": "code",
   "execution_count": 503,
   "metadata": {
    "ExecuteTime": {
     "end_time": "2020-02-08T05:58:18.080970Z",
     "start_time": "2020-02-08T05:58:18.061913Z"
    }
   },
   "outputs": [],
   "source": [
    "DIM = 2\n",
    "metrics = [accuracy_score, precision_score, recall_score, percent_positive]"
   ]
  },
  {
   "cell_type": "code",
   "execution_count": 513,
   "metadata": {
    "ExecuteTime": {
     "end_time": "2020-02-08T06:00:01.853809Z",
     "start_time": "2020-02-08T06:00:01.835134Z"
    }
   },
   "outputs": [],
   "source": [
    "train = Data(n=32, dim=DIM)\n",
    "val = Data(n=32, dim=DIM)\n",
    "\n",
    "dl_train = DataLoader(train, batch_size=8, shuffle=True)\n",
    "dl_val = DataLoader(val, batch_size=8, shuffle=False)"
   ]
  },
  {
   "cell_type": "code",
   "execution_count": 514,
   "metadata": {
    "ExecuteTime": {
     "end_time": "2020-02-08T06:00:02.255257Z",
     "start_time": "2020-02-08T06:00:02.237914Z"
    }
   },
   "outputs": [
    {
     "data": {
      "text/plain": [
       "Model(\n",
       "  (fc): Linear(in_features=2, out_features=1, bias=True)\n",
       ")"
      ]
     },
     "execution_count": 514,
     "metadata": {},
     "output_type": "execute_result"
    }
   ],
   "source": [
    "net = Model(DIM, F.binary_cross_entropy_with_logits, metrics=metrics)\n",
    "net"
   ]
  },
  {
   "cell_type": "code",
   "execution_count": 515,
   "metadata": {
    "ExecuteTime": {
     "end_time": "2020-02-08T06:00:02.607732Z",
     "start_time": "2020-02-08T06:00:02.591339Z"
    }
   },
   "outputs": [],
   "source": [
    "x, y = next(iter(dl_train))"
   ]
  },
  {
   "cell_type": "code",
   "execution_count": 516,
   "metadata": {
    "ExecuteTime": {
     "end_time": "2020-02-08T06:00:02.767606Z",
     "start_time": "2020-02-08T06:00:02.749849Z"
    }
   },
   "outputs": [
    {
     "data": {
      "text/plain": [
       "(torch.Size([8, 2]), torch.Size([8, 1]))"
      ]
     },
     "execution_count": 516,
     "metadata": {},
     "output_type": "execute_result"
    }
   ],
   "source": [
    "x.shape, y.shape"
   ]
  },
  {
   "cell_type": "code",
   "execution_count": 517,
   "metadata": {
    "ExecuteTime": {
     "end_time": "2020-02-08T06:00:02.884670Z",
     "start_time": "2020-02-08T06:00:02.866412Z"
    }
   },
   "outputs": [
    {
     "data": {
      "text/plain": [
       "tensor(1.1740, grad_fn=<BinaryCrossEntropyWithLogitsBackward>)"
      ]
     },
     "execution_count": 517,
     "metadata": {},
     "output_type": "execute_result"
    }
   ],
   "source": [
    "F.binary_cross_entropy_with_logits(net(x), y)"
   ]
  },
  {
   "cell_type": "code",
   "execution_count": 519,
   "metadata": {
    "ExecuteTime": {
     "end_time": "2020-02-08T06:00:10.933327Z",
     "start_time": "2020-02-08T06:00:10.740342Z"
    },
    "scrolled": false
   },
   "outputs": [
    {
     "name": "stdout",
     "output_type": "stream",
     "text": [
      "\n",
      "Epoch 0\n",
      "accuracy_score 0.719 0.75\n",
      "precision_score 0.25 0.0\n",
      "recall_score 0.083 0.0\n",
      "percent_positive 0.031 0.25\n",
      "\n",
      "Epoch 1\n",
      "accuracy_score 0.703 0.75\n",
      "precision_score 0.125 0.0\n",
      "recall_score 0.042 0.0\n",
      "percent_positive 0.016 0.25\n",
      "\n",
      "Epoch 2\n",
      "accuracy_score 0.698 0.375\n",
      "precision_score 0.083 0.0\n",
      "recall_score 0.028 0.0\n",
      "percent_positive 0.01 0.25\n",
      "\n",
      "Epoch 3\n",
      "accuracy_score 0.703 0.25\n",
      "precision_score 0.125 0.0\n",
      "recall_score 0.036 0.0\n",
      "percent_positive 0.016 0.25\n",
      "\n",
      "Epoch 4\n",
      "accuracy_score 0.712 0.75\n",
      "precision_score 0.2 0.0\n",
      "recall_score 0.071 0.0\n",
      "percent_positive 0.025 0.25\n",
      "\n",
      "Epoch 5\n",
      "accuracy_score 0.714 0.75\n",
      "precision_score 0.208 0.0\n",
      "recall_score 0.08 0.0\n",
      "percent_positive 0.026 0.25\n",
      "\n",
      "Epoch 6\n",
      "accuracy_score 0.71 0.75\n",
      "precision_score 0.179 0.0\n",
      "recall_score 0.068 0.0\n",
      "percent_positive 0.022 0.25\n",
      "\n",
      "Epoch 7\n",
      "accuracy_score 0.707 0.75\n",
      "precision_score 0.156 0.0\n",
      "recall_score 0.06 0.0\n",
      "percent_positive 0.02 0.25\n",
      "\n",
      "Epoch 8\n",
      "accuracy_score 0.708 0.625\n",
      "precision_score 0.167 0.0\n",
      "recall_score 0.062 0.0\n",
      "percent_positive 0.021 0.25\n",
      "\n",
      "Epoch 9\n",
      "accuracy_score 0.709 0.375\n",
      "precision_score 0.175 0.0\n",
      "recall_score 0.061 0.0\n",
      "percent_positive 0.022 0.25\n"
     ]
    }
   ],
   "source": [
    "stats = net.fit(10, [dl_train, dl_val], [3e-1])"
   ]
  },
  {
   "cell_type": "code",
   "execution_count": null,
   "metadata": {},
   "outputs": [],
   "source": []
  },
  {
   "cell_type": "code",
   "execution_count": null,
   "metadata": {},
   "outputs": [],
   "source": []
  },
  {
   "cell_type": "code",
   "execution_count": null,
   "metadata": {},
   "outputs": [],
   "source": []
  }
 ],
 "metadata": {
  "kernelspec": {
   "display_name": "Python 3",
   "language": "python",
   "name": "python3"
  },
  "language_info": {
   "codemirror_mode": {
    "name": "ipython",
    "version": 3
   },
   "file_extension": ".py",
   "mimetype": "text/x-python",
   "name": "python",
   "nbconvert_exporter": "python",
   "pygments_lexer": "ipython3",
   "version": "3.7.4"
  }
 },
 "nbformat": 4,
 "nbformat_minor": 2
}
